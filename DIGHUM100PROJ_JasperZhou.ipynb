{
  "nbformat": 4,
  "nbformat_minor": 0,
  "metadata": {
    "colab": {
      "name": "DIGHUM100PROJ_JasperZhou",
      "provenance": [],
      "collapsed_sections": [],
      "toc_visible": true,
      "authorship_tag": "ABX9TyNCURmBN0iy3WuUAYFEaFr7",
      "include_colab_link": true
    },
    "kernelspec": {
      "name": "python3",
      "display_name": "Python 3"
    },
    "language_info": {
      "name": "python"
    }
  },
  "cells": [
    {
      "cell_type": "markdown",
      "metadata": {
        "id": "view-in-github",
        "colab_type": "text"
      },
      "source": [
        "<a href=\"https://colab.research.google.com/github/JasperJZhou/DH100Proj/blob/main/DIGHUM100PROJ_JasperZhou.ipynb\" target=\"_parent\"><img src=\"https://colab.research.google.com/assets/colab-badge.svg\" alt=\"Open In Colab\"/></a>"
      ]
    },
    {
      "cell_type": "markdown",
      "metadata": {
        "id": "bwAhOvvUZ4bw"
      },
      "source": [
        "##**0) IMPORT STATEMENTS**\n",
        "\n",
        "Importing Data Analysis Tools and mounting the Google Drive"
      ]
    },
    {
      "cell_type": "code",
      "metadata": {
        "colab": {
          "base_uri": "https://localhost:8080/"
        },
        "id": "aJP0cjyxUd9y",
        "outputId": "bed21ad2-214f-46ed-ace9-64aa37e1247a"
      },
      "source": [
        "#Mounting Google Drive:\n",
        "from google.colab import drive\n",
        "\n",
        "drive.mount('/content/gdrive')\n",
        "root_path = 'gdrive/My Drive/Jasper Zhou/' #Change this to your root path\n",
        "drive.mount(\"/content/gdrive\", force_remount=True) \n"
      ],
      "execution_count": null,
      "outputs": [
        {
          "output_type": "stream",
          "text": [
            "Mounted at /content/gdrive\n",
            "Mounted at /content/gdrive\n"
          ],
          "name": "stdout"
        }
      ]
    },
    {
      "cell_type": "code",
      "metadata": {
        "id": "-18sLzqMVt4v",
        "colab": {
          "base_uri": "https://localhost:8080/"
        },
        "outputId": "b579786b-922c-4e8c-947e-41deee140296"
      },
      "source": [
        "#IMPORT STATEMENTS:\n",
        "\n",
        "#General data analysis tools \n",
        "import pandas as pd\n",
        "import numpy as np\n",
        "import seaborn as sns\n",
        "import matplotlib as plt\n",
        "\n",
        "#NLTK Tools\n",
        "from sklearn.decomposition import NMF, LatentDirichletAllocation\n",
        "from sklearn.feature_extraction.text import TfidfTransformer\n",
        "from sklearn.feature_extraction.text import TfidfVectorizer, CountVectorizer\n",
        "from sklearn.feature_extraction.text import ENGLISH_STOP_WORDS\n",
        "\n",
        "\n",
        "import nltk\n",
        "nltk.download('punkt')\n",
        "import nltk.tokenize\n",
        "from nltk.stem.snowball import SnowballStemmer\n",
        "from nltk.tokenize import word_tokenize\n",
        "import re #regular expression\n",
        "\n",
        "#Model Building Tools:\n",
        "from sklearn.model_selection import train_test_split\n",
        "\n",
        "#Classification Algorithms\n",
        "from sklearn.naive_bayes import MultinomialNB #Naive Bayes\n",
        "from sklearn import svm #Support Vector Machine\n",
        "from sklearn import linear_model #Logistic Regression"
      ],
      "execution_count": null,
      "outputs": [
        {
          "output_type": "stream",
          "text": [
            "[nltk_data] Downloading package punkt to /root/nltk_data...\n",
            "[nltk_data]   Unzipping tokenizers/punkt.zip.\n"
          ],
          "name": "stdout"
        }
      ]
    },
    {
      "cell_type": "markdown",
      "metadata": {
        "id": "S4gjny-XaNdA"
      },
      "source": [
        "##**I) LOADING THE DATASET:**\n",
        "Create a DataFrame using pandas with our downloaded data (in folder marked data)\n"
      ]
    },
    {
      "cell_type": "code",
      "metadata": {
        "id": "neQFtNXaaE4u"
      },
      "source": [
        "true_df = pd.read_csv(root_path + '/data/True.csv') #DataFrame with True headlines (Is Not Fake News)\n",
        "fake_df = pd.read_csv(root_path + '/data/Fake.csv') #DataFrame with Fake headlines (Is Fake News)"
      ],
      "execution_count": null,
      "outputs": []
    },
    {
      "cell_type": "code",
      "metadata": {
        "id": "gHRqtKeQef36"
      },
      "source": [
        "#Label our data (1 for fake news, 0 for true news)\n",
        "true_df[\"Is_Fake\"] = np.zeros(true_df.shape[0])\n",
        "fake_df[\"Is_Fake\"] = np.ones(fake_df.shape[0])"
      ],
      "execution_count": null,
      "outputs": []
    },
    {
      "cell_type": "code",
      "metadata": {
        "colab": {
          "base_uri": "https://localhost:8080/",
          "height": 204
        },
        "id": "MrcpvQgee-Hz",
        "outputId": "ad86d67e-2d08-4b9b-f59b-9a0659da3533"
      },
      "source": [
        "#Combine DataFrames into a CombinedFrame:\n",
        "combined_df = true_df.append(fake_df)\n",
        "combined_df.head()"
      ],
      "execution_count": null,
      "outputs": [
        {
          "output_type": "execute_result",
          "data": {
            "text/html": [
              "<div>\n",
              "<style scoped>\n",
              "    .dataframe tbody tr th:only-of-type {\n",
              "        vertical-align: middle;\n",
              "    }\n",
              "\n",
              "    .dataframe tbody tr th {\n",
              "        vertical-align: top;\n",
              "    }\n",
              "\n",
              "    .dataframe thead th {\n",
              "        text-align: right;\n",
              "    }\n",
              "</style>\n",
              "<table border=\"1\" class=\"dataframe\">\n",
              "  <thead>\n",
              "    <tr style=\"text-align: right;\">\n",
              "      <th></th>\n",
              "      <th>title</th>\n",
              "      <th>text</th>\n",
              "      <th>subject</th>\n",
              "      <th>date</th>\n",
              "      <th>Is_Fake</th>\n",
              "    </tr>\n",
              "  </thead>\n",
              "  <tbody>\n",
              "    <tr>\n",
              "      <th>0</th>\n",
              "      <td>As U.S. budget fight looms, Republicans flip t...</td>\n",
              "      <td>WASHINGTON (Reuters) - The head of a conservat...</td>\n",
              "      <td>politicsNews</td>\n",
              "      <td>December 31, 2017</td>\n",
              "      <td>0.0</td>\n",
              "    </tr>\n",
              "    <tr>\n",
              "      <th>1</th>\n",
              "      <td>U.S. military to accept transgender recruits o...</td>\n",
              "      <td>WASHINGTON (Reuters) - Transgender people will...</td>\n",
              "      <td>politicsNews</td>\n",
              "      <td>December 29, 2017</td>\n",
              "      <td>0.0</td>\n",
              "    </tr>\n",
              "    <tr>\n",
              "      <th>2</th>\n",
              "      <td>Senior U.S. Republican senator: 'Let Mr. Muell...</td>\n",
              "      <td>WASHINGTON (Reuters) - The special counsel inv...</td>\n",
              "      <td>politicsNews</td>\n",
              "      <td>December 31, 2017</td>\n",
              "      <td>0.0</td>\n",
              "    </tr>\n",
              "    <tr>\n",
              "      <th>3</th>\n",
              "      <td>FBI Russia probe helped by Australian diplomat...</td>\n",
              "      <td>WASHINGTON (Reuters) - Trump campaign adviser ...</td>\n",
              "      <td>politicsNews</td>\n",
              "      <td>December 30, 2017</td>\n",
              "      <td>0.0</td>\n",
              "    </tr>\n",
              "    <tr>\n",
              "      <th>4</th>\n",
              "      <td>Trump wants Postal Service to charge 'much mor...</td>\n",
              "      <td>SEATTLE/WASHINGTON (Reuters) - President Donal...</td>\n",
              "      <td>politicsNews</td>\n",
              "      <td>December 29, 2017</td>\n",
              "      <td>0.0</td>\n",
              "    </tr>\n",
              "  </tbody>\n",
              "</table>\n",
              "</div>"
            ],
            "text/plain": [
              "                                               title  ... Is_Fake\n",
              "0  As U.S. budget fight looms, Republicans flip t...  ...     0.0\n",
              "1  U.S. military to accept transgender recruits o...  ...     0.0\n",
              "2  Senior U.S. Republican senator: 'Let Mr. Muell...  ...     0.0\n",
              "3  FBI Russia probe helped by Australian diplomat...  ...     0.0\n",
              "4  Trump wants Postal Service to charge 'much mor...  ...     0.0\n",
              "\n",
              "[5 rows x 5 columns]"
            ]
          },
          "metadata": {
            "tags": []
          },
          "execution_count": 5
        }
      ]
    },
    {
      "cell_type": "markdown",
      "metadata": {
        "id": "ynq4w6chefTu"
      },
      "source": [
        "##**II)INTRODUCTION**\n",
        "\n",
        "#Project Statement\n",
        "The goal of this project is two-fold:\n",
        "\n",
        "A)Can we analyze how the rhetoric around fake news has changed throughout time?\n",
        "\n",
        "B)Can we create an effective model to classify fake and real news?\n",
        "\n",
        "#Background\n",
        "\n",
        "To start, a definition of fake news is needed. While many definitions exist, a good, succinct one comes from the University of Michigan's library, which defines fake news \"as those news stories that are false: the entire story itself is fabricated, with no verifiable facts, sources or quotes\" (Source: [University of Michigan](https://guides.lib.umich.edu/fakenews)).\n",
        "\n",
        "Fake news has recently taken center stage in the public conciousness, popularized by tweets by Donald Trump in the run up to the 2016 presidential election. However, this project will not focus on the media relations of Donald Trump. Instead, this project will focus on the nature of fake news itself in terms of content.\n",
        "\n",
        "Fake news is not a recent or unique issue, although it has been exacerbated by the ease and speed in which information could be spread. Since the 1890s, fake news has plagued the profession of journalism. Dubbed \"yellow journalism\", newspaper publishers would run sensationlistic news articles. However, fake news was eventually replaced by objective journalism, until recently due to the rise of the internet. (Source: [UCSB](https://www.cits.ucsb.edu/fake-news/brief-history)).\n",
        "\n",
        "Unfortunately, the future seems bleak for traditional, objective news outlets. In 2016, Politico reported the findings of the Pew Research Center's \"State of the Media 2016\", noted that \"[a]dvertising revenue is down; staffs continue to get cut; the number of newspapers has declined by 100 since 2004\". (Source: Politico). As a result, we are moving towards a new world \"where the majority of the population does not reply on professionally reported news sources\" (Source: [Politico](https://www.politico.com/magazine/story/2016/12/fake-news-history-long-violent-214535)).\n",
        "\n",
        "In terms of impacts fake news has on society, University of Michigan lists the following as possibility:\n",
        "\n",
        "**A) Anti-intellectualism:** We have seen during this past year due to COVID-19, fake social media stories have run amok spanning from fake treatments to vaccine scares. Often, these issues stem from a distrust of domain knowledge experts. For example, according to a letter written to NCBI, several incidents exemplified this. In a particularly greivious instance in Mexico:\n",
        "\n",
        "\n",
        "> [T]here have been reports of health personnel having hot coffee or bleach thrown at them on the streets, as well as attempts to burn their homes, and even beatings of nurses and doctors; in some towns, the habitants have even arranged to burn COVID-19-designated hospitals. (Source: [NCBI](https://www.ncbi.nlm.nih.gov/pmc/articles/PMC7722992/))\n",
        "\n",
        "**B)Antiscience:** Similar to anti-intellectualism, there has been a startling rise in anti-scientific theories. For example, the Flat Earth movement has demonstrated the power of social media in overturning what used to be a universally accepted truth. In an interview with Scientific American, Michael Marshall noted that the Flat Earth movement's rise is closely correlated with the technology we have available. In his interview, a contributing factor was Youtube's video recommendation algorithm. It became very easy for individuals, who were only curious, to quickly get recommended similar videos, reinforcing their beliefs. (Source: [Scientific American](https://www.scientificamerican.com/podcast/episode/flat-earthers-what-they-believe-and-why/))\n",
        "\n",
        "**C)Widespread Mistrust:** In 2016, the BBC interviewed Robert Proctor who had been studying the rhetoric surrounding tobacco advertisements. The goal of these tobacco advertisements were not necessarily to discredit scientific literature and studies, but to create enough doubt surrounding the scientific community at large. Prior to 2016, similar strategies were used surrounding Barack Obama's birth certificate. While Obama was undoubtedly American, the rumor successfully created enough doubt around Obama's birth place to create an unncessarily harmful and dangerous scandal. (Source: [BBC](https://www.bbc.com/future/article/20160105-the-man-who-studies-the-spread-of-ignorance))\n",
        "\n"
      ]
    },
    {
      "cell_type": "markdown",
      "metadata": {
        "id": "ms8mOJKgiDF7"
      },
      "source": [
        "##**III) EDA (Exploratory Data Analysis)**\n",
        "\n",
        "\n"
      ]
    },
    {
      "cell_type": "markdown",
      "metadata": {
        "id": "BBIP3ZS1KRch"
      },
      "source": [
        "#i)Intial Pre-processing:\n",
        "First, we must pre-process the text to create text that is easily machine-readable. To do so, we undergo the following steps:\n",
        "\n",
        "\n",
        "1. Lowercase all text\n",
        "2. Tokenize the sentence into individual words\n",
        "3. Remove the stop words\n",
        "\n",
        "From this, we can do some initial, basic data analysis and examine the differences between real and fake news.\n"
      ]
    },
    {
      "cell_type": "code",
      "metadata": {
        "id": "g-dQyguEMLvl"
      },
      "source": [
        "#TESTER: Create small subset of data to test/create our pipeline on.\n",
        "pre_process_df_test = combined_df.sample(50, replace = False)\n",
        "\n",
        "#Lowercase all titles and text\n",
        "pre_process_df_test[\"title\"] = pre_process_df_test[\"title\"].str.lower()\n",
        "pre_process_df_test[\"text\"] = pre_process_df_test[\"text\"].str.lower()\n",
        "\n",
        "#tokenize words into individual words\n",
        "pre_process_df_test[\"tokenized_title\"] = pre_process_df_test[\"title\"].apply(word_tokenize)\n",
        "pre_process_df_test[\"tokenized_text\"] = pre_process_df_test[\"text\"].apply(word_tokenize)\n",
        "\n",
        "#get rid of punctuation\n",
        "pre_process_df_test[\"no_punc_title\"] = pre_process_df_test[\"title\"]"
      ],
      "execution_count": null,
      "outputs": []
    },
    {
      "cell_type": "markdown",
      "metadata": {
        "id": "35mMTHZoZyyX"
      },
      "source": [
        ""
      ]
    },
    {
      "cell_type": "markdown",
      "metadata": {
        "id": "Cx0z1C6HieNy"
      },
      "source": [
        "##**IV)SENTIMENT ANALYSIS OF FAKE/REAL NEWS**"
      ]
    },
    {
      "cell_type": "markdown",
      "metadata": {
        "id": "MLsoGot9iqQy"
      },
      "source": [
        "##**V)PREDICTING FAKE/REAL NEWS**"
      ]
    }
  ]
}